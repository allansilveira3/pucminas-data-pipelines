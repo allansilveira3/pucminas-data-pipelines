{
 "cells": [
  {
   "cell_type": "code",
   "execution_count": 1,
   "id": "4551fb91-3449-436f-bb66-774dd7e1bd52",
   "metadata": {
    "execution": {
     "iopub.execute_input": "2022-11-17T01:01:35.806568Z",
     "iopub.status.busy": "2022-11-17T01:01:35.806339Z",
     "iopub.status.idle": "2022-11-17T01:02:48.207405Z",
     "shell.execute_reply": "2022-11-17T01:02:48.206790Z",
     "shell.execute_reply.started": "2022-11-17T01:01:35.806544Z"
    }
   },
   "outputs": [
    {
     "data": {
      "application/vnd.jupyter.widget-view+json": {
       "model_id": "9658755f57444dfbacf6801a5ce2d1db",
       "version_major": 2,
       "version_minor": 0
      },
      "text/plain": [
       "VBox()"
      ]
     },
     "metadata": {},
     "output_type": "display_data"
    },
    {
     "name": "stdout",
     "output_type": "stream",
     "text": [
      "Starting Spark application\n"
     ]
    },
    {
     "data": {
      "text/html": [
       "<table>\n",
       "<tr><th>ID</th><th>YARN Application ID</th><th>Kind</th><th>State</th><th>Spark UI</th><th>Driver log</th><th>User</th><th>Current session?</th></tr><tr><td>0</td><td>application_1668644845960_0001</td><td>pyspark</td><td>idle</td><td><a target=\"_blank\" href=\"http://ip-172-31-32-95.us-east-2.compute.internal:20888/proxy/application_1668644845960_0001/\" class=\"emr-proxy-link\" emr-resource=\"j-3JUEV9S1LWIL2\n",
       "\" application-id=\"application_1668644845960_0001\">Link</a></td><td><a target=\"_blank\" href=\"http://ip-172-31-35-173.us-east-2.compute.internal:8042/node/containerlogs/container_1668644845960_0001_01_000001/livy\" >Link</a></td><td>None</td><td>✔</td></tr></table>"
      ],
      "text/plain": [
       "<IPython.core.display.HTML object>"
      ]
     },
     "metadata": {},
     "output_type": "display_data"
    },
    {
     "data": {
      "application/vnd.jupyter.widget-view+json": {
       "model_id": "",
       "version_major": 2,
       "version_minor": 0
      },
      "text/plain": [
       "FloatProgress(value=0.0, bar_style='info', description='Progress:', layout=Layout(height='25px', width='50%'),…"
      ]
     },
     "metadata": {},
     "output_type": "display_data"
    },
    {
     "name": "stdout",
     "output_type": "stream",
     "text": [
      "SparkSession available as 'spark'.\n"
     ]
    },
    {
     "data": {
      "application/vnd.jupyter.widget-view+json": {
       "model_id": "",
       "version_major": 2,
       "version_minor": 0
      },
      "text/plain": [
       "FloatProgress(value=0.0, bar_style='info', description='Progress:', layout=Layout(height='25px', width='50%'),…"
      ]
     },
     "metadata": {},
     "output_type": "display_data"
    }
   ],
   "source": [
    "from pyspark.sql import functions as f"
   ]
  },
  {
   "cell_type": "code",
   "execution_count": 2,
   "id": "f7278f95-a48e-471e-ae5c-71da0800e79c",
   "metadata": {
    "execution": {
     "iopub.execute_input": "2022-11-17T01:02:57.923076Z",
     "iopub.status.busy": "2022-11-17T01:02:57.922836Z",
     "iopub.status.idle": "2022-11-17T01:02:58.001816Z",
     "shell.execute_reply": "2022-11-17T01:02:58.001067Z",
     "shell.execute_reply.started": "2022-11-17T01:02:57.923050Z"
    }
   },
   "outputs": [
    {
     "data": {
      "application/vnd.jupyter.widget-view+json": {
       "model_id": "44c5c4ed2be347faa89998927b26cc3a",
       "version_major": 2,
       "version_minor": 0
      },
      "text/plain": [
       "VBox()"
      ]
     },
     "metadata": {},
     "output_type": "display_data"
    },
    {
     "data": {
      "application/vnd.jupyter.widget-view+json": {
       "model_id": "",
       "version_major": 2,
       "version_minor": 0
      },
      "text/plain": [
       "FloatProgress(value=0.0, bar_style='info', description='Progress:', layout=Layout(height='25px', width='50%'),…"
      ]
     },
     "metadata": {},
     "output_type": "display_data"
    },
    {
     "name": "stdout",
     "output_type": "stream",
     "text": [
      "<pyspark.sql.session.SparkSession object at 0x7f6c2c1374d0>"
     ]
    }
   ],
   "source": [
    "spark"
   ]
  },
  {
   "cell_type": "code",
   "execution_count": 5,
   "id": "6f27d444-63ad-43f5-91c5-9ac421e8026b",
   "metadata": {
    "execution": {
     "iopub.execute_input": "2022-11-17T01:12:26.331256Z",
     "iopub.status.busy": "2022-11-17T01:12:26.331026Z",
     "iopub.status.idle": "2022-11-17T01:12:35.662152Z",
     "shell.execute_reply": "2022-11-17T01:12:35.661353Z",
     "shell.execute_reply.started": "2022-11-17T01:12:26.331232Z"
    },
    "tags": []
   },
   "outputs": [
    {
     "data": {
      "application/vnd.jupyter.widget-view+json": {
       "model_id": "2f6d0fd8ef8c440fa7edc2daddb1121f",
       "version_major": 2,
       "version_minor": 0
      },
      "text/plain": [
       "VBox()"
      ]
     },
     "metadata": {},
     "output_type": "display_data"
    },
    {
     "data": {
      "application/vnd.jupyter.widget-view+json": {
       "model_id": "",
       "version_major": 2,
       "version_minor": 0
      },
      "text/plain": [
       "FloatProgress(value=0.0, bar_style='info', description='Progress:', layout=Layout(height='25px', width='50%'),…"
      ]
     },
     "metadata": {},
     "output_type": "display_data"
    },
    {
     "name": "stdout",
     "output_type": "stream",
     "text": [
      "root\n",
      " |-- CNES: integer (nullable = true)\n",
      " |-- UF: integer (nullable = true)\n",
      " |-- IBGE: integer (nullable = true)\n",
      " |-- NOME: string (nullable = true)\n",
      " |-- LOGRADOURO: string (nullable = true)\n",
      " |-- BAIRRO: string (nullable = true)\n",
      " |-- LATITUDE: string (nullable = true)\n",
      " |-- LONGITUDE: string (nullable = true)"
     ]
    }
   ],
   "source": [
    "UBS = (\n",
    "    spark\n",
    "    .read\n",
    "    .csv(\"s3://allan-silva-puc-827879560236-pre/csv/\", \n",
    "        header=True, sep=\";\", inferSchema = True, encoding=\"latin1\")\n",
    ")\n",
    "UBS.printSchema()"
   ]
  },
  {
   "cell_type": "code",
   "execution_count": 8,
   "id": "8b33c8cb-a177-4e57-90e0-9132584b49ff",
   "metadata": {
    "execution": {
     "iopub.execute_input": "2022-11-17T01:14:08.684568Z",
     "iopub.status.busy": "2022-11-17T01:14:08.684320Z",
     "iopub.status.idle": "2022-11-17T01:14:18.023816Z",
     "shell.execute_reply": "2022-11-17T01:14:18.023097Z",
     "shell.execute_reply.started": "2022-11-17T01:14:08.684541Z"
    },
    "tags": []
   },
   "outputs": [
    {
     "data": {
      "application/vnd.jupyter.widget-view+json": {
       "model_id": "aadb3e1980834b80ab8622d78261aa77",
       "version_major": 2,
       "version_minor": 0
      },
      "text/plain": [
       "VBox()"
      ]
     },
     "metadata": {},
     "output_type": "display_data"
    },
    {
     "data": {
      "application/vnd.jupyter.widget-view+json": {
       "model_id": "",
       "version_major": 2,
       "version_minor": 0
      },
      "text/plain": [
       "FloatProgress(value=0.0, bar_style='info', description='Progress:', layout=Layout(height='25px', width='50%'),…"
      ]
     },
     "metadata": {},
     "output_type": "display_data"
    },
    {
     "name": "stdout",
     "output_type": "stream",
     "text": [
      "+-----+---+--------------------+--------------------+---------+---------+\n",
      "| CNES| UF|                NOME|          LOGRADOURO| LATITUDE|LONGITUDE|\n",
      "+-----+---+--------------------+--------------------+---------+---------+\n",
      "|33820| 52|UNIDADE_DE_SAUDE_...|               RUA_H|-15,90682|-52,22545|\n",
      "|  108| 26| USF_ALTO_DOS_INDIOS|              RUA_17| -8,28389| -35,0321|\n",
      "|  116| 26|     USF_CHARNECA_II|              RUA_02| -8,28353|-35,02819|\n",
      "|  124| 26| USF_SAO_FRANCISCO_I|RUA_MANOEL_DOMING...|   -8,287|  -35,035|\n",
      "|  132| 26|         USF_ROSARIO|              RUA_01| -8,28389| -35,0321|\n",
      "|  140| 26|        USF_JUSSARAL|  ESTRADA_DA_VITORIA|   -8,287|  -35,035|\n",
      "|  167| 26|          USF_MERCES|     RUA_DO_FERREIRO|   -8,287|  -35,035|\n",
      "|  175| 26|           USF_SUAPE|RUA_JOSE_MIGUEL_D...|   -8,287|  -35,035|\n",
      "|  248| 26|    USF_MANOEL_VIGIA|RUA_PREFEITO_DIOM...|   -8,287|  -35,035|\n",
      "|  256| 26|      USF_SANTA_ROSA|      RUA_SANTA_ROSA|  -8,2243|-34,96841|\n",
      "|  264| 26|          USF_MARUIM|        RUA_DO_PORTO|  -8,2313|-34,98027|\n",
      "|  272| 26|     USF_ALTO_DO_SOL|   2_TRAV_DA_SAUDADE|   -8,287|  -35,035|\n",
      "|  280| 26|          USF_CACARI|RUA_ANTONIO_DA_SILVA|   -8,287|  -35,035|\n",
      "|  299| 26|        USF_TORRINHA|RUA_JOSE_LINO_DE_...|   -8,287|  -35,035|\n",
      "|  302| 26|   USF_SANTO_ESTEVAO|    RUA_DO_CEMITERIO| -8,21811|-35,22944|\n",
      "|  310| 26|  USF_ALTO_DA_IGREJA|RUA_PREFEITO_DIOM...|   -8,287|  -35,035|\n",
      "|  337| 26|         USF_ARARIBA|ENGENHO_ARARIBA_D...|   -8,287|  -35,035|\n",
      "|  345| 26|   USF_ALTO_DO_PIRES|  1_TRAV_DO_CRUZEIRO|   -8,287|  -35,035|\n",
      "|  388| 26|USF_SAO_FRANCISCO...|              RUA_28| -8,28389| -35,0321|\n",
      "|48062| 29|     U_S_F_BOA_VISTA|   POVOADO_BOA_VISTA|  -11,317|  -38,233|\n",
      "+-----+---+--------------------+--------------------+---------+---------+\n",
      "only showing top 20 rows"
     ]
    }
   ],
   "source": [
    "UBS.select(\n",
    "    'CNES','UF', 'NOME', 'LOGRADOURO', 'LATITUDE', 'LONGITUDE'\n",
    ").show()"
   ]
  },
  {
   "cell_type": "code",
   "execution_count": 10,
   "id": "f2e71c49-f90d-4872-9950-2fa51b4f1280",
   "metadata": {
    "execution": {
     "iopub.execute_input": "2022-11-17T01:16:44.763568Z",
     "iopub.status.busy": "2022-11-17T01:16:44.763346Z",
     "iopub.status.idle": "2022-11-17T01:16:56.087550Z",
     "shell.execute_reply": "2022-11-17T01:16:56.086699Z",
     "shell.execute_reply.started": "2022-11-17T01:16:44.763544Z"
    },
    "tags": []
   },
   "outputs": [
    {
     "data": {
      "application/vnd.jupyter.widget-view+json": {
       "model_id": "ddc0af024fe64715a66963a4465164ed",
       "version_major": 2,
       "version_minor": 0
      },
      "text/plain": [
       "VBox()"
      ]
     },
     "metadata": {},
     "output_type": "display_data"
    },
    {
     "data": {
      "application/vnd.jupyter.widget-view+json": {
       "model_id": "",
       "version_major": 2,
       "version_minor": 0
      },
      "text/plain": [
       "FloatProgress(value=0.0, bar_style='info', description='Progress:', layout=Layout(height='25px', width='50%'),…"
      ]
     },
     "metadata": {},
     "output_type": "display_data"
    }
   ],
   "source": [
    "(\n",
    "    UBS\n",
    "    .write\n",
    "    .format('parquet')\n",
    "    .save(\"s3://allan-silva-puc-827879560236-pre/parquet/\")\n",
    ")"
   ]
  },
  {
   "cell_type": "code",
   "execution_count": 11,
   "id": "52d8a06d-f528-4646-8f5e-a27468025ca7",
   "metadata": {
    "execution": {
     "iopub.execute_input": "2022-11-17T01:17:43.845967Z",
     "iopub.status.busy": "2022-11-17T01:17:43.845729Z",
     "iopub.status.idle": "2022-11-17T01:17:44.621785Z",
     "shell.execute_reply": "2022-11-17T01:17:44.621038Z",
     "shell.execute_reply.started": "2022-11-17T01:17:43.845940Z"
    }
   },
   "outputs": [
    {
     "data": {
      "application/vnd.jupyter.widget-view+json": {
       "model_id": "1e1db1e69af34e7da2bb7636b50042f2",
       "version_major": 2,
       "version_minor": 0
      },
      "text/plain": [
       "VBox()"
      ]
     },
     "metadata": {},
     "output_type": "display_data"
    },
    {
     "data": {
      "application/vnd.jupyter.widget-view+json": {
       "model_id": "",
       "version_major": 2,
       "version_minor": 0
      },
      "text/plain": [
       "FloatProgress(value=0.0, bar_style='info', description='Progress:', layout=Layout(height='25px', width='50%'),…"
      ]
     },
     "metadata": {},
     "output_type": "display_data"
    }
   ],
   "source": [
    "UBS_parquet = (\n",
    "    spark\n",
    "    .read\n",
    "    .parquet(\"s3://allan-silva-puc-827879560236-pre/parquet/\")\n",
    ")\n"
   ]
  },
  {
   "cell_type": "code",
   "execution_count": 12,
   "id": "f62bb81a-826b-4da4-8865-3a56cb842a90",
   "metadata": {
    "execution": {
     "iopub.execute_input": "2022-11-17T01:17:56.606103Z",
     "iopub.status.busy": "2022-11-17T01:17:56.605860Z",
     "iopub.status.idle": "2022-11-17T01:17:56.664471Z",
     "shell.execute_reply": "2022-11-17T01:17:56.663761Z",
     "shell.execute_reply.started": "2022-11-17T01:17:56.606078Z"
    }
   },
   "outputs": [
    {
     "data": {
      "application/vnd.jupyter.widget-view+json": {
       "model_id": "885a04e5c07f4a58aeb04d9fbeb5ac72",
       "version_major": 2,
       "version_minor": 0
      },
      "text/plain": [
       "VBox()"
      ]
     },
     "metadata": {},
     "output_type": "display_data"
    },
    {
     "data": {
      "application/vnd.jupyter.widget-view+json": {
       "model_id": "",
       "version_major": 2,
       "version_minor": 0
      },
      "text/plain": [
       "FloatProgress(value=0.0, bar_style='info', description='Progress:', layout=Layout(height='25px', width='50%'),…"
      ]
     },
     "metadata": {},
     "output_type": "display_data"
    },
    {
     "name": "stdout",
     "output_type": "stream",
     "text": [
      "root\n",
      " |-- CNES: integer (nullable = true)\n",
      " |-- UF: integer (nullable = true)\n",
      " |-- IBGE: integer (nullable = true)\n",
      " |-- NOME: string (nullable = true)\n",
      " |-- LOGRADOURO: string (nullable = true)\n",
      " |-- BAIRRO: string (nullable = true)\n",
      " |-- LATITUDE: string (nullable = true)\n",
      " |-- LONGITUDE: string (nullable = true)"
     ]
    }
   ],
   "source": [
    "UBS_parquet.printSchema()"
   ]
  },
  {
   "cell_type": "code",
   "execution_count": 16,
   "id": "4ba9cee9-6f5f-4b02-a74f-3919fcaaa424",
   "metadata": {
    "execution": {
     "iopub.execute_input": "2022-11-17T01:27:43.287360Z",
     "iopub.status.busy": "2022-11-17T01:27:43.287103Z",
     "iopub.status.idle": "2022-11-17T01:27:43.346943Z",
     "shell.execute_reply": "2022-11-17T01:27:43.346314Z",
     "shell.execute_reply.started": "2022-11-17T01:27:43.287334Z"
    },
    "tags": []
   },
   "outputs": [
    {
     "data": {
      "application/vnd.jupyter.widget-view+json": {
       "model_id": "52d65df9784749a99397473ba3fc40c4",
       "version_major": 2,
       "version_minor": 0
      },
      "text/plain": [
       "VBox()"
      ]
     },
     "metadata": {},
     "output_type": "display_data"
    },
    {
     "data": {
      "application/vnd.jupyter.widget-view+json": {
       "model_id": "",
       "version_major": 2,
       "version_minor": 0
      },
      "text/plain": [
       "FloatProgress(value=0.0, bar_style='info', description='Progress:', layout=Layout(height='25px', width='50%'),…"
      ]
     },
     "metadata": {},
     "output_type": "display_data"
    }
   ],
   "source": [
    "from pyspark.sql.types import StringType\n"
   ]
  },
  {
   "cell_type": "code",
   "execution_count": 17,
   "id": "30af6f0e-219d-413b-a6f3-01564078f77b",
   "metadata": {
    "execution": {
     "iopub.execute_input": "2022-11-17T01:27:48.430120Z",
     "iopub.status.busy": "2022-11-17T01:27:48.429885Z",
     "iopub.status.idle": "2022-11-17T01:27:49.201261Z",
     "shell.execute_reply": "2022-11-17T01:27:49.200589Z",
     "shell.execute_reply.started": "2022-11-17T01:27:48.430093Z"
    },
    "tags": []
   },
   "outputs": [
    {
     "data": {
      "application/vnd.jupyter.widget-view+json": {
       "model_id": "20d02903366141799993ab0e74f7bf2d",
       "version_major": 2,
       "version_minor": 0
      },
      "text/plain": [
       "VBox()"
      ]
     },
     "metadata": {},
     "output_type": "display_data"
    },
    {
     "data": {
      "application/vnd.jupyter.widget-view+json": {
       "model_id": "",
       "version_major": 2,
       "version_minor": 0
      },
      "text/plain": [
       "FloatProgress(value=0.0, bar_style='info', description='Progress:', layout=Layout(height='25px', width='50%'),…"
      ]
     },
     "metadata": {},
     "output_type": "display_data"
    }
   ],
   "source": [
    "UBS_parquet = (UBS_parquet\n",
    "            \n",
    "            .withColumn(\"UF\",f.regexp_replace(\"UF\",\"11\",\"Rondonia\").cast(StringType()))\n",
    "            .withColumn(\"UF\",f.regexp_replace(\"UF\",\"12\",\"Acre\").cast(StringType()))\n",
    "            .withColumn(\"UF\",f.regexp_replace(\"UF\",\"13\",\"Amazonas\").cast(StringType()))\n",
    "            .withColumn(\"UF\",f.regexp_replace(\"UF\",\"14\",\"Roraima\").cast(StringType()))\n",
    "            .withColumn(\"UF\",f.regexp_replace(\"UF\",\"15\",\"Para\").cast(StringType()))\n",
    "            .withColumn(\"UF\",f.regexp_replace(\"UF\",\"16\",\"Amapa\").cast(StringType()))\n",
    "            .withColumn(\"UF\",f.regexp_replace(\"UF\",\"17\",\"Tocantins\").cast(StringType()))\n",
    "            .withColumn(\"UF\",f.regexp_replace(\"UF\",\"21\",\"Maranhao\").cast(StringType()))\n",
    "            .withColumn(\"UF\",f.regexp_replace(\"UF\",\"22\",\"Piaui\").cast(StringType()))\n",
    "            .withColumn(\"UF\",f.regexp_replace(\"UF\",\"23\",\"Ceara\").cast(StringType()))\n",
    "            .withColumn(\"UF\",f.regexp_replace(\"UF\",\"24\",\"Rio_Grande_do_Norte\").cast(StringType()))\n",
    "            .withColumn(\"UF\",f.regexp_replace(\"UF\",\"25\",\"Paraiba\").cast(StringType()))\n",
    "            .withColumn(\"UF\",f.regexp_replace(\"UF\",\"26\",\"Pernambuco\").cast(StringType()))\n",
    "            .withColumn(\"UF\",f.regexp_replace(\"UF\",\"27\",\"Alagoas\").cast(StringType()))\n",
    "            .withColumn(\"UF\",f.regexp_replace(\"UF\",\"28\",\"Sergipe\").cast(StringType()))\n",
    "            .withColumn(\"UF\",f.regexp_replace(\"UF\",\"29\",\"Bahia\").cast(StringType()))\n",
    "            .withColumn(\"UF\",f.regexp_replace(\"UF\",\"31\",\"Minas_Gerais\").cast(StringType()))\n",
    "            .withColumn(\"UF\",f.regexp_replace(\"UF\",\"32\",\"Espirito_Santo\").cast(StringType()))\n",
    "            .withColumn(\"UF\",f.regexp_replace(\"UF\",\"33\",\"Rio_de_Janeiro\").cast(StringType()))\n",
    "            .withColumn(\"UF\",f.regexp_replace(\"UF\",\"35\",\"Sao_Paulo\").cast(StringType()))\n",
    "            .withColumn(\"UF\",f.regexp_replace(\"UF\",\"41\",\"Parana\").cast(StringType()))\n",
    "            .withColumn(\"UF\",f.regexp_replace(\"UF\",\"42\",\"Santa_Catarina\").cast(StringType()))\n",
    "            .withColumn(\"UF\",f.regexp_replace(\"UF\",\"43\",\"Rio_Grande_do_Sul\").cast(StringType()))\n",
    "            .withColumn(\"UF\",f.regexp_replace(\"UF\",\"50\",\"Mato_Grosso_do_Sul\").cast(StringType()))\n",
    "            .withColumn(\"UF\",f.regexp_replace(\"UF\",\"51\",\"Mato_Grosso\").cast(StringType()))\n",
    "            .withColumn(\"UF\",f.regexp_replace(\"UF\",\"52\",\"Goias\").cast(StringType()))\n",
    "            .withColumn(\"UF\",f.regexp_replace(\"UF\",\"53\",\"Distrito_Federal\").cast(StringType()))\n",
    "        )"
   ]
  },
  {
   "cell_type": "code",
   "execution_count": 18,
   "id": "4dfd9643-361c-41af-86f5-0de3fba586a1",
   "metadata": {
    "execution": {
     "iopub.execute_input": "2022-11-17T01:28:00.696476Z",
     "iopub.status.busy": "2022-11-17T01:28:00.696237Z",
     "iopub.status.idle": "2022-11-17T01:28:00.764317Z",
     "shell.execute_reply": "2022-11-17T01:28:00.763376Z",
     "shell.execute_reply.started": "2022-11-17T01:28:00.696451Z"
    }
   },
   "outputs": [
    {
     "data": {
      "application/vnd.jupyter.widget-view+json": {
       "model_id": "ef4247eb70e8426c8e5065e3836200c9",
       "version_major": 2,
       "version_minor": 0
      },
      "text/plain": [
       "VBox()"
      ]
     },
     "metadata": {},
     "output_type": "display_data"
    },
    {
     "data": {
      "application/vnd.jupyter.widget-view+json": {
       "model_id": "",
       "version_major": 2,
       "version_minor": 0
      },
      "text/plain": [
       "FloatProgress(value=0.0, bar_style='info', description='Progress:', layout=Layout(height='25px', width='50%'),…"
      ]
     },
     "metadata": {},
     "output_type": "display_data"
    },
    {
     "name": "stdout",
     "output_type": "stream",
     "text": [
      "root\n",
      " |-- CNES: integer (nullable = true)\n",
      " |-- UF: string (nullable = true)\n",
      " |-- IBGE: integer (nullable = true)\n",
      " |-- NOME: string (nullable = true)\n",
      " |-- LOGRADOURO: string (nullable = true)\n",
      " |-- BAIRRO: string (nullable = true)\n",
      " |-- LATITUDE: string (nullable = true)\n",
      " |-- LONGITUDE: string (nullable = true)"
     ]
    }
   ],
   "source": [
    "UBS_parquet.printSchema()"
   ]
  },
  {
   "cell_type": "code",
   "execution_count": 22,
   "id": "cc47831e-9eb4-431d-9aaf-f7780669dfc6",
   "metadata": {
    "execution": {
     "iopub.execute_input": "2022-11-17T01:31:30.627847Z",
     "iopub.status.busy": "2022-11-17T01:31:30.627615Z",
     "iopub.status.idle": "2022-11-17T01:31:39.933318Z",
     "shell.execute_reply": "2022-11-17T01:31:39.932457Z",
     "shell.execute_reply.started": "2022-11-17T01:31:30.627822Z"
    },
    "tags": []
   },
   "outputs": [
    {
     "data": {
      "application/vnd.jupyter.widget-view+json": {
       "model_id": "662e460d553b47f2b0b39942e9f9b3d1",
       "version_major": 2,
       "version_minor": 0
      },
      "text/plain": [
       "VBox()"
      ]
     },
     "metadata": {},
     "output_type": "display_data"
    },
    {
     "data": {
      "application/vnd.jupyter.widget-view+json": {
       "model_id": "",
       "version_major": 2,
       "version_minor": 0
      },
      "text/plain": [
       "FloatProgress(value=0.0, bar_style='info', description='Progress:', layout=Layout(height='25px', width='50%'),…"
      ]
     },
     "metadata": {},
     "output_type": "display_data"
    },
    {
     "name": "stdout",
     "output_type": "stream",
     "text": [
      "+-----+----------+--------------------+--------------------+---------+---------+\n",
      "| CNES|        UF|                NOME|          LOGRADOURO| LATITUDE|LONGITUDE|\n",
      "+-----+----------+--------------------+--------------------+---------+---------+\n",
      "|33820|     Goias|UNIDADE_DE_SAUDE_...|               RUA_H|-15,90682|-52,22545|\n",
      "|  108|Pernambuco| USF_ALTO_DOS_INDIOS|              RUA_17| -8,28389| -35,0321|\n",
      "|  116|Pernambuco|     USF_CHARNECA_II|              RUA_02| -8,28353|-35,02819|\n",
      "|  124|Pernambuco| USF_SAO_FRANCISCO_I|RUA_MANOEL_DOMING...|   -8,287|  -35,035|\n",
      "|  132|Pernambuco|         USF_ROSARIO|              RUA_01| -8,28389| -35,0321|\n",
      "|  140|Pernambuco|        USF_JUSSARAL|  ESTRADA_DA_VITORIA|   -8,287|  -35,035|\n",
      "|  167|Pernambuco|          USF_MERCES|     RUA_DO_FERREIRO|   -8,287|  -35,035|\n",
      "|  175|Pernambuco|           USF_SUAPE|RUA_JOSE_MIGUEL_D...|   -8,287|  -35,035|\n",
      "|  248|Pernambuco|    USF_MANOEL_VIGIA|RUA_PREFEITO_DIOM...|   -8,287|  -35,035|\n",
      "|  256|Pernambuco|      USF_SANTA_ROSA|      RUA_SANTA_ROSA|  -8,2243|-34,96841|\n",
      "|  264|Pernambuco|          USF_MARUIM|        RUA_DO_PORTO|  -8,2313|-34,98027|\n",
      "|  272|Pernambuco|     USF_ALTO_DO_SOL|   2_TRAV_DA_SAUDADE|   -8,287|  -35,035|\n",
      "|  280|Pernambuco|          USF_CACARI|RUA_ANTONIO_DA_SILVA|   -8,287|  -35,035|\n",
      "|  299|Pernambuco|        USF_TORRINHA|RUA_JOSE_LINO_DE_...|   -8,287|  -35,035|\n",
      "|  302|Pernambuco|   USF_SANTO_ESTEVAO|    RUA_DO_CEMITERIO| -8,21811|-35,22944|\n",
      "|  310|Pernambuco|  USF_ALTO_DA_IGREJA|RUA_PREFEITO_DIOM...|   -8,287|  -35,035|\n",
      "|  337|Pernambuco|         USF_ARARIBA|ENGENHO_ARARIBA_D...|   -8,287|  -35,035|\n",
      "|  345|Pernambuco|   USF_ALTO_DO_PIRES|  1_TRAV_DO_CRUZEIRO|   -8,287|  -35,035|\n",
      "|  388|Pernambuco|USF_SAO_FRANCISCO...|              RUA_28| -8,28389| -35,0321|\n",
      "|48062|     Bahia|     U_S_F_BOA_VISTA|   POVOADO_BOA_VISTA|  -11,317|  -38,233|\n",
      "+-----+----------+--------------------+--------------------+---------+---------+\n",
      "only showing top 20 rows"
     ]
    }
   ],
   "source": [
    "UBS_parquet.select(\n",
    "    'CNES','UF', 'NOME', 'LOGRADOURO', 'LATITUDE', 'LONGITUDE'\n",
    ").show()"
   ]
  },
  {
   "cell_type": "code",
   "execution_count": 27,
   "id": "405faf05-c423-4e41-a029-36c200772e39",
   "metadata": {
    "execution": {
     "iopub.execute_input": "2022-11-17T01:45:15.524762Z",
     "iopub.status.busy": "2022-11-17T01:45:15.524539Z",
     "iopub.status.idle": "2022-11-17T01:45:38.869543Z",
     "shell.execute_reply": "2022-11-17T01:45:38.868769Z",
     "shell.execute_reply.started": "2022-11-17T01:45:15.524738Z"
    },
    "tags": []
   },
   "outputs": [
    {
     "data": {
      "application/vnd.jupyter.widget-view+json": {
       "model_id": "b4e523f382d04833bd6bb9283176dd7f",
       "version_major": 2,
       "version_minor": 0
      },
      "text/plain": [
       "VBox()"
      ]
     },
     "metadata": {},
     "output_type": "display_data"
    },
    {
     "data": {
      "application/vnd.jupyter.widget-view+json": {
       "model_id": "",
       "version_major": 2,
       "version_minor": 0
      },
      "text/plain": [
       "FloatProgress(value=0.0, bar_style='info', description='Progress:', layout=Layout(height='25px', width='50%'),…"
      ]
     },
     "metadata": {},
     "output_type": "display_data"
    },
    {
     "name": "stderr",
     "output_type": "stream",
     "text": [
      "An error was encountered:\n",
      "An error occurred while calling o470.toString. Trace:\n",
      "java.lang.IllegalArgumentException: object is not an instance of declaring class\n",
      "\tat sun.reflect.NativeMethodAccessorImpl.invoke0(Native Method)\n",
      "\tat sun.reflect.NativeMethodAccessorImpl.invoke(NativeMethodAccessorImpl.java:62)\n",
      "\tat sun.reflect.DelegatingMethodAccessorImpl.invoke(DelegatingMethodAccessorImpl.java:43)\n",
      "\tat java.lang.reflect.Method.invoke(Method.java:498)\n",
      "\tat py4j.reflection.MethodInvoker.invoke(MethodInvoker.java:244)\n",
      "\tat py4j.reflection.ReflectionEngine.invoke(ReflectionEngine.java:357)\n",
      "\tat py4j.Gateway.invoke(Gateway.java:282)\n",
      "\tat py4j.commands.AbstractCommand.invokeMethod(AbstractCommand.java:132)\n",
      "\tat py4j.commands.CallCommand.execute(CallCommand.java:79)\n",
      "\tat py4j.GatewayConnection.run(GatewayConnection.java:238)\n",
      "\tat java.lang.Thread.run(Thread.java:750)\n",
      "\n",
      "\n",
      "Traceback (most recent call last):\n",
      "  File \"/mnt/yarn/usercache/livy/appcache/application_1668644845960_0001/container_1668644845960_0001_01_000001/pyspark.zip/pyspark/sql/session.py\", line 1034, in sql\n",
      "    return DataFrame(self._jsparkSession.sql(sqlQuery), self)\n",
      "  File \"/mnt/yarn/usercache/livy/appcache/application_1668644845960_0001/container_1668644845960_0001_01_000001/py4j-0.10.9.5-src.zip/py4j/java_gateway.py\", line 1322, in __call__\n",
      "    answer, self.gateway_client, self.target_id, self.name)\n",
      "  File \"/mnt/yarn/usercache/livy/appcache/application_1668644845960_0001/container_1668644845960_0001_01_000001/pyspark.zip/pyspark/sql/utils.py\", line 192, in deco\n",
      "    converted = convert_exception(e.java_exception)\n",
      "  File \"/mnt/yarn/usercache/livy/appcache/application_1668644845960_0001/container_1668644845960_0001_01_000001/pyspark.zip/pyspark/sql/utils.py\", line 157, in convert_exception\n",
      "    return AnalysisException(origin=e)\n",
      "  File \"/mnt/yarn/usercache/livy/appcache/application_1668644845960_0001/container_1668644845960_0001_01_000001/pyspark.zip/pyspark/sql/utils.py\", line 60, in __init__\n",
      "    self.cause = convert_exception(origin.getCause())\n",
      "  File \"/mnt/yarn/usercache/livy/appcache/application_1668644845960_0001/container_1668644845960_0001_01_000001/pyspark.zip/pyspark/sql/utils.py\", line 184, in convert_exception\n",
      "    return UnknownException(desc=e.toString(), stackTrace=stacktrace, cause=c)\n",
      "  File \"/mnt/yarn/usercache/livy/appcache/application_1668644845960_0001/container_1668644845960_0001_01_000001/pyspark.zip/pyspark/sql/utils.py\", line 58, in __init__\n",
      "    self.cause = convert_exception(cause) if cause is not None else None\n",
      "  File \"/mnt/yarn/usercache/livy/appcache/application_1668644845960_0001/container_1668644845960_0001_01_000001/pyspark.zip/pyspark/sql/utils.py\", line 184, in convert_exception\n",
      "    return UnknownException(desc=e.toString(), stackTrace=stacktrace, cause=c)\n",
      "  File \"/mnt/yarn/usercache/livy/appcache/application_1668644845960_0001/container_1668644845960_0001_01_000001/pyspark.zip/pyspark/sql/utils.py\", line 58, in __init__\n",
      "    self.cause = convert_exception(cause) if cause is not None else None\n",
      "  File \"/mnt/yarn/usercache/livy/appcache/application_1668644845960_0001/container_1668644845960_0001_01_000001/pyspark.zip/pyspark/sql/utils.py\", line 184, in convert_exception\n",
      "    return UnknownException(desc=e.toString(), stackTrace=stacktrace, cause=c)\n",
      "  File \"/mnt/yarn/usercache/livy/appcache/application_1668644845960_0001/container_1668644845960_0001_01_000001/pyspark.zip/pyspark/sql/utils.py\", line 58, in __init__\n",
      "    self.cause = convert_exception(cause) if cause is not None else None\n",
      "  File \"/mnt/yarn/usercache/livy/appcache/application_1668644845960_0001/container_1668644845960_0001_01_000001/pyspark.zip/pyspark/sql/utils.py\", line 184, in convert_exception\n",
      "    return UnknownException(desc=e.toString(), stackTrace=stacktrace, cause=c)\n",
      "  File \"/mnt/yarn/usercache/livy/appcache/application_1668644845960_0001/container_1668644845960_0001_01_000001/py4j-0.10.9.5-src.zip/py4j/java_gateway.py\", line 1322, in __call__\n",
      "    answer, self.gateway_client, self.target_id, self.name)\n",
      "  File \"/mnt/yarn/usercache/livy/appcache/application_1668644845960_0001/container_1668644845960_0001_01_000001/pyspark.zip/pyspark/sql/utils.py\", line 190, in deco\n",
      "    return f(*a, **kw)\n",
      "  File \"/mnt/yarn/usercache/livy/appcache/application_1668644845960_0001/container_1668644845960_0001_01_000001/py4j-0.10.9.5-src.zip/py4j/protocol.py\", line 332, in get_return_value\n",
      "    format(target_id, \".\", name, value))\n",
      "py4j.protocol.Py4JError: An error occurred while calling o470.toString. Trace:\n",
      "java.lang.IllegalArgumentException: object is not an instance of declaring class\n",
      "\tat sun.reflect.NativeMethodAccessorImpl.invoke0(Native Method)\n",
      "\tat sun.reflect.NativeMethodAccessorImpl.invoke(NativeMethodAccessorImpl.java:62)\n",
      "\tat sun.reflect.DelegatingMethodAccessorImpl.invoke(DelegatingMethodAccessorImpl.java:43)\n",
      "\tat java.lang.reflect.Method.invoke(Method.java:498)\n",
      "\tat py4j.reflection.MethodInvoker.invoke(MethodInvoker.java:244)\n",
      "\tat py4j.reflection.ReflectionEngine.invoke(ReflectionEngine.java:357)\n",
      "\tat py4j.Gateway.invoke(Gateway.java:282)\n",
      "\tat py4j.commands.AbstractCommand.invokeMethod(AbstractCommand.java:132)\n",
      "\tat py4j.commands.CallCommand.execute(CallCommand.java:79)\n",
      "\tat py4j.GatewayConnection.run(GatewayConnection.java:238)\n",
      "\tat java.lang.Thread.run(Thread.java:750)\n",
      "\n",
      "\n",
      "\n"
     ]
    }
   ],
   "source": []
  },
  {
   "cell_type": "code",
   "execution_count": 28,
   "id": "ec0dd97e-d7e6-4b2b-abc4-81b722deaae4",
   "metadata": {
    "execution": {
     "iopub.execute_input": "2022-11-17T01:55:24.184466Z",
     "iopub.status.busy": "2022-11-17T01:55:24.184240Z",
     "iopub.status.idle": "2022-11-17T01:55:24.266316Z",
     "shell.execute_reply": "2022-11-17T01:55:24.265077Z",
     "shell.execute_reply.started": "2022-11-17T01:55:24.184440Z"
    }
   },
   "outputs": [
    {
     "data": {
      "application/vnd.jupyter.widget-view+json": {
       "model_id": "5b9afff056b34159b34efe0a6e0e5fe1",
       "version_major": 2,
       "version_minor": 0
      },
      "text/plain": [
       "VBox()"
      ]
     },
     "metadata": {},
     "output_type": "display_data"
    },
    {
     "data": {
      "application/vnd.jupyter.widget-view+json": {
       "model_id": "",
       "version_major": 2,
       "version_minor": 0
      },
      "text/plain": [
       "FloatProgress(value=0.0, bar_style='info', description='Progress:', layout=Layout(height='25px', width='50%'),…"
      ]
     },
     "metadata": {},
     "output_type": "display_data"
    }
   ],
   "source": [
    "UBS_parquet = (\n",
    "    UBS_parquet\n",
    "    .withColumn(\"LATITUDE\", f.regexp_replace(\"LATITUDE\", \",\", \".\").cast(\"double\") )\n",
    "    .withColumn(\"LONGITUDE\", f.regexp_replace(\"LONGITUDE\", ',', '.').cast('double'))\n",
    ")"
   ]
  },
  {
   "cell_type": "code",
   "execution_count": 29,
   "id": "63bcea3e-d0a1-4f8a-8b62-f9139e7633bb",
   "metadata": {
    "execution": {
     "iopub.execute_input": "2022-11-17T01:55:36.450854Z",
     "iopub.status.busy": "2022-11-17T01:55:36.450601Z",
     "iopub.status.idle": "2022-11-17T01:55:36.505047Z",
     "shell.execute_reply": "2022-11-17T01:55:36.504382Z",
     "shell.execute_reply.started": "2022-11-17T01:55:36.450829Z"
    }
   },
   "outputs": [
    {
     "data": {
      "application/vnd.jupyter.widget-view+json": {
       "model_id": "11527ec8d1534b7dbc003919d3988797",
       "version_major": 2,
       "version_minor": 0
      },
      "text/plain": [
       "VBox()"
      ]
     },
     "metadata": {},
     "output_type": "display_data"
    },
    {
     "data": {
      "application/vnd.jupyter.widget-view+json": {
       "model_id": "",
       "version_major": 2,
       "version_minor": 0
      },
      "text/plain": [
       "FloatProgress(value=0.0, bar_style='info', description='Progress:', layout=Layout(height='25px', width='50%'),…"
      ]
     },
     "metadata": {},
     "output_type": "display_data"
    },
    {
     "name": "stdout",
     "output_type": "stream",
     "text": [
      "root\n",
      " |-- CNES: integer (nullable = true)\n",
      " |-- UF: string (nullable = true)\n",
      " |-- IBGE: integer (nullable = true)\n",
      " |-- NOME: string (nullable = true)\n",
      " |-- LOGRADOURO: string (nullable = true)\n",
      " |-- BAIRRO: string (nullable = true)\n",
      " |-- LATITUDE: double (nullable = true)\n",
      " |-- LONGITUDE: double (nullable = true)"
     ]
    }
   ],
   "source": [
    "UBS_parquet.printSchema()"
   ]
  },
  {
   "cell_type": "code",
   "execution_count": 33,
   "id": "277457fc-c6f9-47d0-8b1d-9e392c6b14a7",
   "metadata": {
    "execution": {
     "iopub.execute_input": "2022-11-17T02:02:08.036412Z",
     "iopub.status.busy": "2022-11-17T02:02:08.036167Z",
     "iopub.status.idle": "2022-11-17T02:02:17.341396Z",
     "shell.execute_reply": "2022-11-17T02:02:17.340361Z",
     "shell.execute_reply.started": "2022-11-17T02:02:08.036386Z"
    },
    "tags": []
   },
   "outputs": [
    {
     "data": {
      "application/vnd.jupyter.widget-view+json": {
       "model_id": "984a814bd45f4b69a5ef5413639625e2",
       "version_major": 2,
       "version_minor": 0
      },
      "text/plain": [
       "VBox()"
      ]
     },
     "metadata": {},
     "output_type": "display_data"
    },
    {
     "data": {
      "application/vnd.jupyter.widget-view+json": {
       "model_id": "",
       "version_major": 2,
       "version_minor": 0
      },
      "text/plain": [
       "FloatProgress(value=0.0, bar_style='info', description='Progress:', layout=Layout(height='25px', width='50%'),…"
      ]
     },
     "metadata": {},
     "output_type": "display_data"
    },
    {
     "name": "stdout",
     "output_type": "stream",
     "text": [
      "+-----+----------+--------------------+\n",
      "| CNES|        UF|                NOME|\n",
      "+-----+----------+--------------------+\n",
      "|33820|     Goias|UNIDADE_DE_SAUDE_...|\n",
      "|  108|Pernambuco| USF_ALTO_DOS_INDIOS|\n",
      "|  116|Pernambuco|     USF_CHARNECA_II|\n",
      "|  124|Pernambuco| USF_SAO_FRANCISCO_I|\n",
      "|  132|Pernambuco|         USF_ROSARIO|\n",
      "|  140|Pernambuco|        USF_JUSSARAL|\n",
      "|  167|Pernambuco|          USF_MERCES|\n",
      "|  175|Pernambuco|           USF_SUAPE|\n",
      "|  248|Pernambuco|    USF_MANOEL_VIGIA|\n",
      "|  256|Pernambuco|      USF_SANTA_ROSA|\n",
      "|  264|Pernambuco|          USF_MARUIM|\n",
      "|  272|Pernambuco|     USF_ALTO_DO_SOL|\n",
      "|  280|Pernambuco|          USF_CACARI|\n",
      "|  299|Pernambuco|        USF_TORRINHA|\n",
      "|  302|Pernambuco|   USF_SANTO_ESTEVAO|\n",
      "|  310|Pernambuco|  USF_ALTO_DA_IGREJA|\n",
      "|  337|Pernambuco|         USF_ARARIBA|\n",
      "|  345|Pernambuco|   USF_ALTO_DO_PIRES|\n",
      "|  388|Pernambuco|USF_SAO_FRANCISCO...|\n",
      "|48062|     Bahia|     U_S_F_BOA_VISTA|\n",
      "+-----+----------+--------------------+\n",
      "only showing top 20 rows"
     ]
    }
   ],
   "source": [
    "UBS_parquet.select('CNES', 'UF', 'NOME').show()"
   ]
  },
  {
   "cell_type": "code",
   "execution_count": 34,
   "id": "4e69166a-0f2a-4319-ad5c-19cc68a68266",
   "metadata": {
    "execution": {
     "iopub.execute_input": "2022-11-17T02:02:31.946530Z",
     "iopub.status.busy": "2022-11-17T02:02:31.946272Z",
     "iopub.status.idle": "2022-11-17T02:02:32.711379Z",
     "shell.execute_reply": "2022-11-17T02:02:32.710533Z",
     "shell.execute_reply.started": "2022-11-17T02:02:31.946497Z"
    }
   },
   "outputs": [
    {
     "data": {
      "application/vnd.jupyter.widget-view+json": {
       "model_id": "507f01c06252403cb0254d822463a8cc",
       "version_major": 2,
       "version_minor": 0
      },
      "text/plain": [
       "VBox()"
      ]
     },
     "metadata": {},
     "output_type": "display_data"
    },
    {
     "data": {
      "application/vnd.jupyter.widget-view+json": {
       "model_id": "",
       "version_major": 2,
       "version_minor": 0
      },
      "text/plain": [
       "FloatProgress(value=0.0, bar_style='info', description='Progress:', layout=Layout(height='25px', width='50%'),…"
      ]
     },
     "metadata": {},
     "output_type": "display_data"
    },
    {
     "name": "stdout",
     "output_type": "stream",
     "text": [
      "+-----+----------+--------------------+--------------------+---------+---------+\n",
      "| CNES|        UF|                NOME|          LOGRADOURO| LATITUDE|LONGITUDE|\n",
      "+-----+----------+--------------------+--------------------+---------+---------+\n",
      "|33820|     Goias|UNIDADE_DE_SAUDE_...|               RUA_H|-15.90682|-52.22545|\n",
      "|  108|Pernambuco| USF_ALTO_DOS_INDIOS|              RUA_17| -8.28389| -35.0321|\n",
      "|  116|Pernambuco|     USF_CHARNECA_II|              RUA_02| -8.28353|-35.02819|\n",
      "|  124|Pernambuco| USF_SAO_FRANCISCO_I|RUA_MANOEL_DOMING...|   -8.287|  -35.035|\n",
      "|  132|Pernambuco|         USF_ROSARIO|              RUA_01| -8.28389| -35.0321|\n",
      "|  140|Pernambuco|        USF_JUSSARAL|  ESTRADA_DA_VITORIA|   -8.287|  -35.035|\n",
      "|  167|Pernambuco|          USF_MERCES|     RUA_DO_FERREIRO|   -8.287|  -35.035|\n",
      "|  175|Pernambuco|           USF_SUAPE|RUA_JOSE_MIGUEL_D...|   -8.287|  -35.035|\n",
      "|  248|Pernambuco|    USF_MANOEL_VIGIA|RUA_PREFEITO_DIOM...|   -8.287|  -35.035|\n",
      "|  256|Pernambuco|      USF_SANTA_ROSA|      RUA_SANTA_ROSA|  -8.2243|-34.96841|\n",
      "|  264|Pernambuco|          USF_MARUIM|        RUA_DO_PORTO|  -8.2313|-34.98027|\n",
      "|  272|Pernambuco|     USF_ALTO_DO_SOL|   2_TRAV_DA_SAUDADE|   -8.287|  -35.035|\n",
      "|  280|Pernambuco|          USF_CACARI|RUA_ANTONIO_DA_SILVA|   -8.287|  -35.035|\n",
      "|  299|Pernambuco|        USF_TORRINHA|RUA_JOSE_LINO_DE_...|   -8.287|  -35.035|\n",
      "|  302|Pernambuco|   USF_SANTO_ESTEVAO|    RUA_DO_CEMITERIO| -8.21811|-35.22944|\n",
      "|  310|Pernambuco|  USF_ALTO_DA_IGREJA|RUA_PREFEITO_DIOM...|   -8.287|  -35.035|\n",
      "|  337|Pernambuco|         USF_ARARIBA|ENGENHO_ARARIBA_D...|   -8.287|  -35.035|\n",
      "|  345|Pernambuco|   USF_ALTO_DO_PIRES|  1_TRAV_DO_CRUZEIRO|   -8.287|  -35.035|\n",
      "|  388|Pernambuco|USF_SAO_FRANCISCO...|              RUA_28| -8.28389| -35.0321|\n",
      "|48062|     Bahia|     U_S_F_BOA_VISTA|   POVOADO_BOA_VISTA|  -11.317|  -38.233|\n",
      "+-----+----------+--------------------+--------------------+---------+---------+\n",
      "only showing top 20 rows"
     ]
    }
   ],
   "source": [
    "UBS_parquet.select(\n",
    "    'CNES','UF', 'NOME', 'LOGRADOURO', 'LATITUDE', 'LONGITUDE'\n",
    ").show()"
   ]
  },
  {
   "cell_type": "code",
   "execution_count": 35,
   "id": "08358ddb-1f24-4724-b5e8-b3227f736c39",
   "metadata": {
    "execution": {
     "iopub.execute_input": "2022-11-17T02:08:14.830788Z",
     "iopub.status.busy": "2022-11-17T02:08:14.830550Z",
     "iopub.status.idle": "2022-11-17T02:08:26.139378Z",
     "shell.execute_reply": "2022-11-17T02:08:26.138575Z",
     "shell.execute_reply.started": "2022-11-17T02:08:14.830764Z"
    }
   },
   "outputs": [
    {
     "data": {
      "application/vnd.jupyter.widget-view+json": {
       "model_id": "94a57f2af7d541408639329252905b64",
       "version_major": 2,
       "version_minor": 0
      },
      "text/plain": [
       "VBox()"
      ]
     },
     "metadata": {},
     "output_type": "display_data"
    },
    {
     "data": {
      "application/vnd.jupyter.widget-view+json": {
       "model_id": "",
       "version_major": 2,
       "version_minor": 0
      },
      "text/plain": [
       "FloatProgress(value=0.0, bar_style='info', description='Progress:', layout=Layout(height='25px', width='50%'),…"
      ]
     },
     "metadata": {},
     "output_type": "display_data"
    },
    {
     "name": "stdout",
     "output_type": "stream",
     "text": [
      "+------------------+---------------+---------------+----------------+----------------+\n",
      "|                UF|LATITUDE_MINIMA|LATITUDE_MAXIMA|LONGITUDE_MINIMA|LONGITUDE_MAXIMA|\n",
      "+------------------+---------------+---------------+----------------+----------------+\n",
      "|           Paraiba|       -8.15274|       -6.09868|       -38.72046|       -34.79892|\n",
      "|             Piaui|        -10.817|       -2.84449|       -45.92144|       -40.44085|\n",
      "|  Distrito_Federal|      -16.04099|      -15.28854|       -48.51217|       -47.37505|\n",
      "|       Mato_Grosso|      -17.97998|       -9.36942|       -61.45715|       -50.51288|\n",
      "|           Alagoas|      -10.49079|       -8.84136|       -38.19121|        -34.8592|\n",
      "|             Bahia|      -18.17264|       -8.60275|       -45.94919|           -37.0|\n",
      "|             Amapa|       -0.98415|        3.84721|       -53.05298|       -50.62397|\n",
      "|           Sergipe|      -11.51905|       -9.47382|       -38.88142|       -36.29183|\n",
      "|      Minas_Gerais|      -22.88253|        -14.263|       -50.68649|       -39.94542|\n",
      "|    Santa_Catarina|      -29.32436|      -26.00704|       -53.72503|        -48.3885|\n",
      "|         Sao_Paulo|      -25.21734|      -19.94152|         -53.059|         -44.448|\n",
      "|         Tocantins|      -13.05042|       -5.26062|       -49.95644|         -46.408|\n",
      "|        Pernambuco|       -9.50483|       -3.84597|       -41.29493|       -32.41059|\n",
      "|Mato_Grosso_do_Sul|      -24.00192|        -17.575|         -57.883|         -51.094|\n",
      "|             Ceara|       -7.82926|         -2.794|       -41.32393|       -37.06414|\n",
      "|    Rio_de_Janeiro|      -23.35126|      -20.82074|       -45.01787|        -40.9623|\n",
      "|           Roraima|       -0.21147|          4.596|        -61.6013|       -59.40033|\n",
      "|             Goias|      -19.18376|          -13.0|         -53.205|       -46.10889|\n",
      "|              Acre|        -11.029|       -7.41839|       -73.22469|         -66.883|\n",
      "|              Para|         -9.505|        0.26092|       -57.75914|       -46.13863|\n",
      "+------------------+---------------+---------------+----------------+----------------+\n",
      "only showing top 20 rows"
     ]
    }
   ],
   "source": [
    "(\n",
    "    UBS_parquet\n",
    "    .groupBy(\"UF\")\n",
    "    .agg(\n",
    "        f.min(\"LATITUDE\").alias(\"LATITUDE_MINIMA\"),\n",
    "        f.max(\"LATITUDE\").alias(\"LATITUDE_MAXIMA\"),\n",
    "        f.min(\"LONGITUDE\").alias(\"LONGITUDE_MINIMA\"),\n",
    "        f.max(\"LONGITUDE\").alias(\"LONGITUDE_MAXIMA\")\n",
    "    )\n",
    "    .show()\n",
    ")"
   ]
  },
  {
   "cell_type": "code",
   "execution_count": 40,
   "id": "e22e2b44-424e-4789-9178-aa5e176e15be",
   "metadata": {
    "execution": {
     "iopub.execute_input": "2022-11-17T02:15:42.912584Z",
     "iopub.status.busy": "2022-11-17T02:15:42.912353Z",
     "iopub.status.idle": "2022-11-17T02:15:44.187485Z",
     "shell.execute_reply": "2022-11-17T02:15:44.186716Z",
     "shell.execute_reply.started": "2022-11-17T02:15:42.912558Z"
    },
    "tags": []
   },
   "outputs": [
    {
     "data": {
      "application/vnd.jupyter.widget-view+json": {
       "model_id": "17e69bdea69a4d5c9ae8a0fbfb28f1d3",
       "version_major": 2,
       "version_minor": 0
      },
      "text/plain": [
       "VBox()"
      ]
     },
     "metadata": {},
     "output_type": "display_data"
    },
    {
     "data": {
      "application/vnd.jupyter.widget-view+json": {
       "model_id": "",
       "version_major": 2,
       "version_minor": 0
      },
      "text/plain": [
       "FloatProgress(value=0.0, bar_style='info', description='Progress:', layout=Layout(height='25px', width='50%'),…"
      ]
     },
     "metadata": {},
     "output_type": "display_data"
    },
    {
     "name": "stdout",
     "output_type": "stream",
     "text": [
      "+-------------------+----------------------------+\n",
      "|                 UF|TOTAL_DE_UNIDADES_POR_ESTADO|\n",
      "+-------------------+----------------------------+\n",
      "|       Minas_Gerais|                        5247|\n",
      "|          Sao_Paulo|                        5032|\n",
      "|              Bahia|                        3867|\n",
      "|         Pernambuco|                        2505|\n",
      "|              Ceara|                        2146|\n",
      "|           Maranhao|                        2020|\n",
      "|             Parana|                        2010|\n",
      "|  Rio_Grande_do_Sul|                        1983|\n",
      "|     Rio_de_Janeiro|                        1815|\n",
      "|     Santa_Catarina|                        1679|\n",
      "|               Para|                        1585|\n",
      "|            Paraiba|                        1478|\n",
      "|              Goias|                        1315|\n",
      "|              Piaui|                        1103|\n",
      "|Rio_Grande_do_Norte|                         989|\n",
      "|        Mato_Grosso|                         905|\n",
      "|            Alagoas|                         884|\n",
      "|     Espirito_Santo|                         814|\n",
      "| Mato_Grosso_do_Sul|                         606|\n",
      "|           Amazonas|                         572|\n",
      "|            Sergipe|                         490|\n",
      "|          Tocantins|                         433|\n",
      "|           Rondonia|                         281|\n",
      "|               Acre|                         228|\n",
      "|   Distrito_Federal|                         177|\n",
      "|              Amapa|                         138|\n",
      "|            Roraima|                         130|\n",
      "+-------------------+----------------------------+"
     ]
    }
   ],
   "source": [
    "(\n",
    "    UBS_parquet\n",
    "    .groupBy(\"UF\")\n",
    "    .agg(\n",
    "        f.count(\"NOME\").alias(\"TOTAL_DE_UNIDADES_POR_ESTADO\")\n",
    "    )\n",
    "    .orderBy(f.col(\"TOTAL_DE_UNIDADES_POR_ESTADO\").desc())\n",
    "    .show(n=100)\n",
    ")"
   ]
  },
  {
   "cell_type": "code",
   "execution_count": 41,
   "id": "8288ff22-415f-405a-b0b6-1a5d6218588b",
   "metadata": {
    "execution": {
     "iopub.execute_input": "2022-11-17T02:18:55.992384Z",
     "iopub.status.busy": "2022-11-17T02:18:55.992132Z",
     "iopub.status.idle": "2022-11-17T02:19:07.302409Z",
     "shell.execute_reply": "2022-11-17T02:19:07.301619Z",
     "shell.execute_reply.started": "2022-11-17T02:18:55.992358Z"
    }
   },
   "outputs": [
    {
     "data": {
      "application/vnd.jupyter.widget-view+json": {
       "model_id": "03d43a64244c4dddb88d3e1455329dfb",
       "version_major": 2,
       "version_minor": 0
      },
      "text/plain": [
       "VBox()"
      ]
     },
     "metadata": {},
     "output_type": "display_data"
    },
    {
     "data": {
      "application/vnd.jupyter.widget-view+json": {
       "model_id": "",
       "version_major": 2,
       "version_minor": 0
      },
      "text/plain": [
       "FloatProgress(value=0.0, bar_style='info', description='Progress:', layout=Layout(height='25px', width='50%'),…"
      ]
     },
     "metadata": {},
     "output_type": "display_data"
    },
    {
     "name": "stdout",
     "output_type": "stream",
     "text": [
      "+-------------------+---------------+---------------+----------------+----------------+----------------------------+\n",
      "|                 UF|LATITUDE_MINIMA|LATITUDE_MAXIMA|LONGITUDE_MINIMA|LONGITUDE_MAXIMA|TOTAL_DE_UNIDADES_POR_ESTADO|\n",
      "+-------------------+---------------+---------------+----------------+----------------+----------------------------+\n",
      "|       Minas_Gerais|      -22.88253|        -14.263|       -50.68649|       -39.94542|                        5247|\n",
      "|          Sao_Paulo|      -25.21734|      -19.94152|         -53.059|         -44.448|                        5032|\n",
      "|              Bahia|      -18.17264|       -8.60275|       -45.94919|           -37.0|                        3867|\n",
      "|         Pernambuco|       -9.50483|       -3.84597|       -41.29493|       -32.41059|                        2505|\n",
      "|              Ceara|       -7.82926|         -2.794|       -41.32393|       -37.06414|                        2146|\n",
      "|           Maranhao|       -9.11163|       -1.19749|       -48.55345|         -41.903|                        2020|\n",
      "|             Parana|      -26.49881|      -22.09336|       -54.59122|       -48.32838|                        2010|\n",
      "|  Rio_Grande_do_Sul|        -33.691|      -27.16398|         -57.555|        -49.7244|                        1983|\n",
      "|     Rio_de_Janeiro|      -23.35126|      -20.82074|       -45.01787|        -40.9623|                        1815|\n",
      "|     Santa_Catarina|      -29.32436|      -26.00704|       -53.72503|        -48.3885|                        1679|\n",
      "|               Para|         -9.505|        0.26092|       -57.75914|       -46.13863|                        1585|\n",
      "|            Paraiba|       -8.15274|       -6.09868|       -38.72046|       -34.79892|                        1478|\n",
      "|              Goias|      -19.18376|          -13.0|         -53.205|       -46.10889|                        1315|\n",
      "|              Piaui|        -10.817|       -2.84449|       -45.92144|       -40.44085|                        1103|\n",
      "|Rio_Grande_do_Norte|       -6.94502|       -4.54346|          -38.71|       -34.96999|                         989|\n",
      "|        Mato_Grosso|      -17.97998|       -9.36942|       -61.45715|       -50.51288|                         905|\n",
      "|            Alagoas|      -10.49079|       -8.84136|       -38.19121|        -34.8592|                         884|\n",
      "|     Espirito_Santo|      -21.21718|      -17.93977|       -41.84785|         -39.709|                         814|\n",
      "| Mato_Grosso_do_Sul|      -24.00192|        -17.575|         -57.883|         -51.094|                         606|\n",
      "|           Amazonas|       -8.77214|       -0.11538|       -72.57972|        -56.6263|                         572|\n",
      "|            Sergipe|      -11.51905|       -9.47382|       -38.88142|       -36.29183|                         490|\n",
      "|          Tocantins|      -13.05042|       -5.26062|       -49.95644|         -46.408|                         433|\n",
      "|           Rondonia|      -13.49883|       -8.23911|       -65.33795|       -60.10991|                         281|\n",
      "|               Acre|        -11.029|       -7.41839|       -73.22469|         -66.883|                         228|\n",
      "|   Distrito_Federal|      -16.04099|      -15.28854|       -48.51217|       -47.37505|                         177|\n",
      "|              Amapa|       -0.98415|        3.84721|       -53.05298|       -50.62397|                         138|\n",
      "|            Roraima|       -0.21147|          4.596|        -61.6013|       -59.40033|                         130|\n",
      "+-------------------+---------------+---------------+----------------+----------------+----------------------------+"
     ]
    }
   ],
   "source": [
    "(\n",
    "    UBS_parquet\n",
    "    .groupBy(\"UF\")\n",
    "    .agg(\n",
    "        f.min(\"LATITUDE\").alias(\"LATITUDE_MINIMA\"),\n",
    "        f.max(\"LATITUDE\").alias(\"LATITUDE_MAXIMA\"),\n",
    "        f.min(\"LONGITUDE\").alias(\"LONGITUDE_MINIMA\"),\n",
    "        f.max(\"LONGITUDE\").alias(\"LONGITUDE_MAXIMA\"),\n",
    "        f.count(\"NOME\").alias(\"TOTAL_DE_UNIDADES_POR_ESTADO\")\n",
    "    )\n",
    "    .orderBy(f.col(\"TOTAL_DE_UNIDADES_POR_ESTADO\").desc())\n",
    "    .show(n=100)\n",
    "\n",
    ")"
   ]
  },
  {
   "cell_type": "code",
   "execution_count": 42,
   "id": "e6bdfe15-7085-48b1-ac20-c513d1bfb7e5",
   "metadata": {
    "execution": {
     "iopub.execute_input": "2022-11-17T02:24:25.570870Z",
     "iopub.status.busy": "2022-11-17T02:24:25.570639Z",
     "iopub.status.idle": "2022-11-17T02:24:25.830721Z",
     "shell.execute_reply": "2022-11-17T02:24:25.829988Z",
     "shell.execute_reply.started": "2022-11-17T02:24:25.570846Z"
    }
   },
   "outputs": [
    {
     "data": {
      "application/vnd.jupyter.widget-view+json": {
       "model_id": "eba6664ec1884a6880cdf3b8ff5cd6d4",
       "version_major": 2,
       "version_minor": 0
      },
      "text/plain": [
       "VBox()"
      ]
     },
     "metadata": {},
     "output_type": "display_data"
    },
    {
     "data": {
      "application/vnd.jupyter.widget-view+json": {
       "model_id": "",
       "version_major": 2,
       "version_minor": 0
      },
      "text/plain": [
       "FloatProgress(value=0.0, bar_style='info', description='Progress:', layout=Layout(height='25px', width='50%'),…"
      ]
     },
     "metadata": {},
     "output_type": "display_data"
    }
   ],
   "source": [
    "Ind_final = (\n",
    "    UBS_parquet\n",
    "    .groupBy(\"UF\")\n",
    "    .agg(\n",
    "        f.min(\"LATITUDE\").alias(\"LATITUDE_MINIMA\"),\n",
    "        f.max(\"LATITUDE\").alias(\"LATITUDE_MAXIMA\"),\n",
    "        f.min(\"LONGITUDE\").alias(\"LONGITUDE_MINIMA\"),\n",
    "        f.max(\"LONGITUDE\").alias(\"LONGITUDE_MAXIMA\"),\n",
    "        f.count(\"NOME\").alias(\"TOTAL_DE_UNIDADES_POR_ESTADO\")\n",
    "    )\n",
    "    .orderBy(f.col(\"TOTAL_DE_UNIDADES_POR_ESTADO\").desc())\n",
    "    \n",
    ")"
   ]
  },
  {
   "cell_type": "code",
   "execution_count": 43,
   "id": "6de43150-5c0c-41d1-892b-414120aca61e",
   "metadata": {
    "execution": {
     "iopub.execute_input": "2022-11-17T02:24:50.848489Z",
     "iopub.status.busy": "2022-11-17T02:24:50.848262Z",
     "iopub.status.idle": "2022-11-17T02:25:02.157769Z",
     "shell.execute_reply": "2022-11-17T02:25:02.157027Z",
     "shell.execute_reply.started": "2022-11-17T02:24:50.848465Z"
    }
   },
   "outputs": [
    {
     "data": {
      "application/vnd.jupyter.widget-view+json": {
       "model_id": "8789ff9a30c94861aa8b5e4815525b8c",
       "version_major": 2,
       "version_minor": 0
      },
      "text/plain": [
       "VBox()"
      ]
     },
     "metadata": {},
     "output_type": "display_data"
    },
    {
     "data": {
      "application/vnd.jupyter.widget-view+json": {
       "model_id": "",
       "version_major": 2,
       "version_minor": 0
      },
      "text/plain": [
       "FloatProgress(value=0.0, bar_style='info', description='Progress:', layout=Layout(height='25px', width='50%'),…"
      ]
     },
     "metadata": {},
     "output_type": "display_data"
    },
    {
     "name": "stdout",
     "output_type": "stream",
     "text": [
      "+-------------------+---------------+---------------+----------------+----------------+----------------------------+\n",
      "|                 UF|LATITUDE_MINIMA|LATITUDE_MAXIMA|LONGITUDE_MINIMA|LONGITUDE_MAXIMA|TOTAL_DE_UNIDADES_POR_ESTADO|\n",
      "+-------------------+---------------+---------------+----------------+----------------+----------------------------+\n",
      "|       Minas_Gerais|      -22.88253|        -14.263|       -50.68649|       -39.94542|                        5247|\n",
      "|          Sao_Paulo|      -25.21734|      -19.94152|         -53.059|         -44.448|                        5032|\n",
      "|              Bahia|      -18.17264|       -8.60275|       -45.94919|           -37.0|                        3867|\n",
      "|         Pernambuco|       -9.50483|       -3.84597|       -41.29493|       -32.41059|                        2505|\n",
      "|              Ceara|       -7.82926|         -2.794|       -41.32393|       -37.06414|                        2146|\n",
      "|           Maranhao|       -9.11163|       -1.19749|       -48.55345|         -41.903|                        2020|\n",
      "|             Parana|      -26.49881|      -22.09336|       -54.59122|       -48.32838|                        2010|\n",
      "|  Rio_Grande_do_Sul|        -33.691|      -27.16398|         -57.555|        -49.7244|                        1983|\n",
      "|     Rio_de_Janeiro|      -23.35126|      -20.82074|       -45.01787|        -40.9623|                        1815|\n",
      "|     Santa_Catarina|      -29.32436|      -26.00704|       -53.72503|        -48.3885|                        1679|\n",
      "|               Para|         -9.505|        0.26092|       -57.75914|       -46.13863|                        1585|\n",
      "|            Paraiba|       -8.15274|       -6.09868|       -38.72046|       -34.79892|                        1478|\n",
      "|              Goias|      -19.18376|          -13.0|         -53.205|       -46.10889|                        1315|\n",
      "|              Piaui|        -10.817|       -2.84449|       -45.92144|       -40.44085|                        1103|\n",
      "|Rio_Grande_do_Norte|       -6.94502|       -4.54346|          -38.71|       -34.96999|                         989|\n",
      "|        Mato_Grosso|      -17.97998|       -9.36942|       -61.45715|       -50.51288|                         905|\n",
      "|            Alagoas|      -10.49079|       -8.84136|       -38.19121|        -34.8592|                         884|\n",
      "|     Espirito_Santo|      -21.21718|      -17.93977|       -41.84785|         -39.709|                         814|\n",
      "| Mato_Grosso_do_Sul|      -24.00192|        -17.575|         -57.883|         -51.094|                         606|\n",
      "|           Amazonas|       -8.77214|       -0.11538|       -72.57972|        -56.6263|                         572|\n",
      "|            Sergipe|      -11.51905|       -9.47382|       -38.88142|       -36.29183|                         490|\n",
      "|          Tocantins|      -13.05042|       -5.26062|       -49.95644|         -46.408|                         433|\n",
      "|           Rondonia|      -13.49883|       -8.23911|       -65.33795|       -60.10991|                         281|\n",
      "|               Acre|        -11.029|       -7.41839|       -73.22469|         -66.883|                         228|\n",
      "|   Distrito_Federal|      -16.04099|      -15.28854|       -48.51217|       -47.37505|                         177|\n",
      "|              Amapa|       -0.98415|        3.84721|       -53.05298|       -50.62397|                         138|\n",
      "|            Roraima|       -0.21147|          4.596|        -61.6013|       -59.40033|                         130|\n",
      "+-------------------+---------------+---------------+----------------+----------------+----------------------------+"
     ]
    }
   ],
   "source": [
    "Ind_final.show(n=100)"
   ]
  },
  {
   "cell_type": "code",
   "execution_count": 45,
   "id": "948bfda3-c575-4edd-a6fa-fbd22fcacc99",
   "metadata": {
    "execution": {
     "iopub.execute_input": "2022-11-17T02:26:57.808988Z",
     "iopub.status.busy": "2022-11-17T02:26:57.808760Z",
     "iopub.status.idle": "2022-11-17T02:27:09.116241Z",
     "shell.execute_reply": "2022-11-17T02:27:09.115375Z",
     "shell.execute_reply.started": "2022-11-17T02:26:57.808963Z"
    },
    "tags": []
   },
   "outputs": [
    {
     "data": {
      "application/vnd.jupyter.widget-view+json": {
       "model_id": "a328ab98c68e4cb7a757b465ae1a6bd6",
       "version_major": 2,
       "version_minor": 0
      },
      "text/plain": [
       "VBox()"
      ]
     },
     "metadata": {},
     "output_type": "display_data"
    },
    {
     "data": {
      "application/vnd.jupyter.widget-view+json": {
       "model_id": "",
       "version_major": 2,
       "version_minor": 0
      },
      "text/plain": [
       "FloatProgress(value=0.0, bar_style='info', description='Progress:', layout=Layout(height='25px', width='50%'),…"
      ]
     },
     "metadata": {},
     "output_type": "display_data"
    }
   ],
   "source": [
    "(\n",
    "    Ind_final\n",
    "    .write\n",
    "    .format('csv')\n",
    "    .save(\"s3://allan-silva-puc-827879560236-pre/indicadores/\")\n",
    ")"
   ]
  },
  {
   "cell_type": "code",
   "execution_count": null,
   "id": "4d71298e-92f8-4e64-bd34-a06334cbf7dc",
   "metadata": {},
   "outputs": [],
   "source": []
  }
 ],
 "metadata": {
  "kernelspec": {
   "display_name": "PySpark",
   "language": "python",
   "name": "pysparkkernel"
  },
  "language_info": {
   "codemirror_mode": {
    "name": "python",
    "version": 3
   },
   "file_extension": ".py",
   "mimetype": "text/x-python",
   "name": "pyspark",
   "pygments_lexer": "python3"
  }
 },
 "nbformat": 4,
 "nbformat_minor": 5
}
